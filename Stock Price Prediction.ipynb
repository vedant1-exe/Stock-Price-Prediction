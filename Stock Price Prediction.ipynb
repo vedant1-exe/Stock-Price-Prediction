{
 "cells": [
  {
   "cell_type": "code",
   "execution_count": 1,
   "metadata": {},
   "outputs": [],
   "source": [
    "from IPython.core.debugger import set_trace\n",
    "\n",
    "import pandas as pd\n",
    "import numpy as np\n",
    "import os\n",
    "import matplotlib.pyplot as plt\n",
    "import time\n",
    "\n",
    "plt.style.use(style=\"seaborn\")\n",
    "%matplotlib inline"
   ]
  },
  {
   "cell_type": "code",
   "execution_count": 2,
   "metadata": {},
   "outputs": [],
   "source": [
    "df = pd.read_csv(\"AXISBANK.csv\")"
   ]
  },
  {
   "cell_type": "code",
   "execution_count": 3,
   "metadata": {
    "scrolled": false
   },
   "outputs": [
    {
     "name": "stdout",
     "output_type": "stream",
     "text": [
      "<class 'pandas.core.frame.DataFrame'>\n",
      "RangeIndex: 5306 entries, 0 to 5305\n",
      "Data columns (total 15 columns):\n",
      " #   Column              Non-Null Count  Dtype  \n",
      "---  ------              --------------  -----  \n",
      " 0   Date                5306 non-null   object \n",
      " 1   Symbol              5306 non-null   object \n",
      " 2   Series              5306 non-null   object \n",
      " 3   Prev Close          5306 non-null   float64\n",
      " 4   Open                5306 non-null   float64\n",
      " 5   High                5306 non-null   float64\n",
      " 6   Low                 5306 non-null   float64\n",
      " 7   Last                5306 non-null   float64\n",
      " 8   Close               5306 non-null   float64\n",
      " 9   VWAP                5306 non-null   float64\n",
      " 10  Volume              5306 non-null   int64  \n",
      " 11  Turnover            5306 non-null   float64\n",
      " 12  Trades              2456 non-null   float64\n",
      " 13  Deliverable Volume  4797 non-null   float64\n",
      " 14  %Deliverble         4797 non-null   float64\n",
      "dtypes: float64(11), int64(1), object(3)\n",
      "memory usage: 621.9+ KB\n"
     ]
    }
   ],
   "source": [
    "df.info()"
   ]
  },
  {
   "cell_type": "code",
   "execution_count": 4,
   "metadata": {},
   "outputs": [
    {
     "data": {
      "text/html": [
       "<div>\n",
       "<style scoped>\n",
       "    .dataframe tbody tr th:only-of-type {\n",
       "        vertical-align: middle;\n",
       "    }\n",
       "\n",
       "    .dataframe tbody tr th {\n",
       "        vertical-align: top;\n",
       "    }\n",
       "\n",
       "    .dataframe thead th {\n",
       "        text-align: right;\n",
       "    }\n",
       "</style>\n",
       "<table border=\"1\" class=\"dataframe\">\n",
       "  <thead>\n",
       "    <tr style=\"text-align: right;\">\n",
       "      <th></th>\n",
       "      <th>Prev Close</th>\n",
       "      <th>Open</th>\n",
       "      <th>High</th>\n",
       "      <th>Low</th>\n",
       "      <th>Last</th>\n",
       "      <th>Close</th>\n",
       "      <th>VWAP</th>\n",
       "      <th>Volume</th>\n",
       "      <th>Turnover</th>\n",
       "      <th>Trades</th>\n",
       "      <th>Deliverable Volume</th>\n",
       "      <th>%Deliverble</th>\n",
       "    </tr>\n",
       "  </thead>\n",
       "  <tbody>\n",
       "    <tr>\n",
       "      <th>count</th>\n",
       "      <td>5306.000000</td>\n",
       "      <td>5306.000000</td>\n",
       "      <td>5306.000000</td>\n",
       "      <td>5306.000000</td>\n",
       "      <td>5306.000000</td>\n",
       "      <td>5306.000000</td>\n",
       "      <td>5306.000000</td>\n",
       "      <td>5.306000e+03</td>\n",
       "      <td>5.306000e+03</td>\n",
       "      <td>2456.000000</td>\n",
       "      <td>4.797000e+03</td>\n",
       "      <td>4797.000000</td>\n",
       "    </tr>\n",
       "    <tr>\n",
       "      <th>mean</th>\n",
       "      <td>585.763852</td>\n",
       "      <td>586.507388</td>\n",
       "      <td>596.476187</td>\n",
       "      <td>575.571598</td>\n",
       "      <td>585.897399</td>\n",
       "      <td>585.893931</td>\n",
       "      <td>586.077778</td>\n",
       "      <td>4.527938e+06</td>\n",
       "      <td>2.739871e+14</td>\n",
       "      <td>120602.231678</td>\n",
       "      <td>1.990907e+06</td>\n",
       "      <td>0.466962</td>\n",
       "    </tr>\n",
       "    <tr>\n",
       "      <th>std</th>\n",
       "      <td>436.714128</td>\n",
       "      <td>436.602194</td>\n",
       "      <td>443.044833</td>\n",
       "      <td>430.108921</td>\n",
       "      <td>436.609147</td>\n",
       "      <td>436.649765</td>\n",
       "      <td>436.611987</td>\n",
       "      <td>8.101940e+06</td>\n",
       "      <td>4.122431e+14</td>\n",
       "      <td>96106.654046</td>\n",
       "      <td>3.264587e+06</td>\n",
       "      <td>0.161808</td>\n",
       "    </tr>\n",
       "    <tr>\n",
       "      <th>min</th>\n",
       "      <td>22.150000</td>\n",
       "      <td>21.000000</td>\n",
       "      <td>23.700000</td>\n",
       "      <td>21.000000</td>\n",
       "      <td>22.150000</td>\n",
       "      <td>22.150000</td>\n",
       "      <td>22.170000</td>\n",
       "      <td>2.850000e+03</td>\n",
       "      <td>8.275250e+09</td>\n",
       "      <td>2698.000000</td>\n",
       "      <td>5.809000e+03</td>\n",
       "      <td>0.075000</td>\n",
       "    </tr>\n",
       "    <tr>\n",
       "      <th>25%</th>\n",
       "      <td>230.950000</td>\n",
       "      <td>232.000000</td>\n",
       "      <td>235.125000</td>\n",
       "      <td>227.075000</td>\n",
       "      <td>230.550000</td>\n",
       "      <td>230.975000</td>\n",
       "      <td>231.115000</td>\n",
       "      <td>2.842172e+05</td>\n",
       "      <td>5.868745e+12</td>\n",
       "      <td>62228.250000</td>\n",
       "      <td>2.573130e+05</td>\n",
       "      <td>0.347500</td>\n",
       "    </tr>\n",
       "    <tr>\n",
       "      <th>50%</th>\n",
       "      <td>519.450000</td>\n",
       "      <td>520.100000</td>\n",
       "      <td>528.400000</td>\n",
       "      <td>512.025000</td>\n",
       "      <td>519.425000</td>\n",
       "      <td>519.500000</td>\n",
       "      <td>519.505000</td>\n",
       "      <td>1.656966e+06</td>\n",
       "      <td>1.653257e+14</td>\n",
       "      <td>93186.500000</td>\n",
       "      <td>7.687680e+05</td>\n",
       "      <td>0.459800</td>\n",
       "    </tr>\n",
       "    <tr>\n",
       "      <th>75%</th>\n",
       "      <td>877.312500</td>\n",
       "      <td>880.075000</td>\n",
       "      <td>897.987500</td>\n",
       "      <td>852.762500</td>\n",
       "      <td>877.275000</td>\n",
       "      <td>877.312500</td>\n",
       "      <td>875.807500</td>\n",
       "      <td>5.515245e+06</td>\n",
       "      <td>3.456528e+14</td>\n",
       "      <td>144973.250000</td>\n",
       "      <td>2.652520e+06</td>\n",
       "      <td>0.573900</td>\n",
       "    </tr>\n",
       "    <tr>\n",
       "      <th>max</th>\n",
       "      <td>2023.350000</td>\n",
       "      <td>2034.400000</td>\n",
       "      <td>2043.050000</td>\n",
       "      <td>2002.600000</td>\n",
       "      <td>2022.550000</td>\n",
       "      <td>2023.350000</td>\n",
       "      <td>2020.310000</td>\n",
       "      <td>1.205419e+08</td>\n",
       "      <td>7.179550e+15</td>\n",
       "      <td>990737.000000</td>\n",
       "      <td>9.490116e+07</td>\n",
       "      <td>0.983000</td>\n",
       "    </tr>\n",
       "  </tbody>\n",
       "</table>\n",
       "</div>"
      ],
      "text/plain": [
       "        Prev Close         Open         High          Low         Last  \\\n",
       "count  5306.000000  5306.000000  5306.000000  5306.000000  5306.000000   \n",
       "mean    585.763852   586.507388   596.476187   575.571598   585.897399   \n",
       "std     436.714128   436.602194   443.044833   430.108921   436.609147   \n",
       "min      22.150000    21.000000    23.700000    21.000000    22.150000   \n",
       "25%     230.950000   232.000000   235.125000   227.075000   230.550000   \n",
       "50%     519.450000   520.100000   528.400000   512.025000   519.425000   \n",
       "75%     877.312500   880.075000   897.987500   852.762500   877.275000   \n",
       "max    2023.350000  2034.400000  2043.050000  2002.600000  2022.550000   \n",
       "\n",
       "             Close         VWAP        Volume      Turnover         Trades  \\\n",
       "count  5306.000000  5306.000000  5.306000e+03  5.306000e+03    2456.000000   \n",
       "mean    585.893931   586.077778  4.527938e+06  2.739871e+14  120602.231678   \n",
       "std     436.649765   436.611987  8.101940e+06  4.122431e+14   96106.654046   \n",
       "min      22.150000    22.170000  2.850000e+03  8.275250e+09    2698.000000   \n",
       "25%     230.975000   231.115000  2.842172e+05  5.868745e+12   62228.250000   \n",
       "50%     519.500000   519.505000  1.656966e+06  1.653257e+14   93186.500000   \n",
       "75%     877.312500   875.807500  5.515245e+06  3.456528e+14  144973.250000   \n",
       "max    2023.350000  2020.310000  1.205419e+08  7.179550e+15  990737.000000   \n",
       "\n",
       "       Deliverable Volume  %Deliverble  \n",
       "count        4.797000e+03  4797.000000  \n",
       "mean         1.990907e+06     0.466962  \n",
       "std          3.264587e+06     0.161808  \n",
       "min          5.809000e+03     0.075000  \n",
       "25%          2.573130e+05     0.347500  \n",
       "50%          7.687680e+05     0.459800  \n",
       "75%          2.652520e+06     0.573900  \n",
       "max          9.490116e+07     0.983000  "
      ]
     },
     "execution_count": 4,
     "metadata": {},
     "output_type": "execute_result"
    }
   ],
   "source": [
    "df.describe()"
   ]
  },
  {
   "cell_type": "code",
   "execution_count": 6,
   "metadata": {},
   "outputs": [],
   "source": [
    "df.set_index(\"Date\", drop=True, inplace=True)"
   ]
  },
  {
   "cell_type": "code",
   "execution_count": 7,
   "metadata": {},
   "outputs": [],
   "source": [
    "df = df[[\"Close\"]]"
   ]
  },
  {
   "cell_type": "code",
   "execution_count": 8,
   "metadata": {},
   "outputs": [
    {
     "data": {
      "text/html": [
       "<div>\n",
       "<style scoped>\n",
       "    .dataframe tbody tr th:only-of-type {\n",
       "        vertical-align: middle;\n",
       "    }\n",
       "\n",
       "    .dataframe tbody tr th {\n",
       "        vertical-align: top;\n",
       "    }\n",
       "\n",
       "    .dataframe thead th {\n",
       "        text-align: right;\n",
       "    }\n",
       "</style>\n",
       "<table border=\"1\" class=\"dataframe\">\n",
       "  <thead>\n",
       "    <tr style=\"text-align: right;\">\n",
       "      <th></th>\n",
       "      <th>Close</th>\n",
       "    </tr>\n",
       "  </thead>\n",
       "  <tbody>\n",
       "    <tr>\n",
       "      <th>count</th>\n",
       "      <td>5306.000000</td>\n",
       "    </tr>\n",
       "    <tr>\n",
       "      <th>mean</th>\n",
       "      <td>585.893931</td>\n",
       "    </tr>\n",
       "    <tr>\n",
       "      <th>std</th>\n",
       "      <td>436.649765</td>\n",
       "    </tr>\n",
       "    <tr>\n",
       "      <th>min</th>\n",
       "      <td>22.150000</td>\n",
       "    </tr>\n",
       "    <tr>\n",
       "      <th>25%</th>\n",
       "      <td>230.975000</td>\n",
       "    </tr>\n",
       "    <tr>\n",
       "      <th>50%</th>\n",
       "      <td>519.500000</td>\n",
       "    </tr>\n",
       "    <tr>\n",
       "      <th>75%</th>\n",
       "      <td>877.312500</td>\n",
       "    </tr>\n",
       "    <tr>\n",
       "      <th>max</th>\n",
       "      <td>2023.350000</td>\n",
       "    </tr>\n",
       "  </tbody>\n",
       "</table>\n",
       "</div>"
      ],
      "text/plain": [
       "             Close\n",
       "count  5306.000000\n",
       "mean    585.893931\n",
       "std     436.649765\n",
       "min      22.150000\n",
       "25%     230.975000\n",
       "50%     519.500000\n",
       "75%     877.312500\n",
       "max    2023.350000"
      ]
     },
     "execution_count": 8,
     "metadata": {},
     "output_type": "execute_result"
    }
   ],
   "source": [
    "df.describe()"
   ]
  },
  {
   "cell_type": "code",
   "execution_count": 9,
   "metadata": {},
   "outputs": [
    {
     "data": {
      "image/png": "[encoded data removed]",
      "text/plain": [
       "<Figure size 1152x432 with 1 Axes>"
      ]
     },
     "metadata": {
      "needs_background": "light"
     },
     "output_type": "display_data"
    }
   ],
   "source": [
    "plt.figure(figsize=(16, 6))\n",
    "p= plt.plot(df.Close)"
   ]
  },
  {
   "cell_type": "code",
   "execution_count": 10,
   "metadata": {},
   "outputs": [],
   "source": [
    "df[\"returns\"] = df.Close.pct_change()"
   ]
  },
  {
   "cell_type": "code",
   "execution_count": 11,
   "metadata": {},
   "outputs": [
    {
     "data": {
      "text/html": [
       "<div>\n",
       "<style scoped>\n",
       "    .dataframe tbody tr th:only-of-type {\n",
       "        vertical-align: middle;\n",
       "    }\n",
       "\n",
       "    .dataframe tbody tr th {\n",
       "        vertical-align: top;\n",
       "    }\n",
       "\n",
       "    .dataframe thead th {\n",
       "        text-align: right;\n",
       "    }\n",
       "</style>\n",
       "<table border=\"1\" class=\"dataframe\">\n",
       "  <thead>\n",
       "    <tr style=\"text-align: right;\">\n",
       "      <th></th>\n",
       "      <th>Close</th>\n",
       "      <th>returns</th>\n",
       "    </tr>\n",
       "    <tr>\n",
       "      <th>Date</th>\n",
       "      <th></th>\n",
       "      <th></th>\n",
       "    </tr>\n",
       "  </thead>\n",
       "  <tbody>\n",
       "    <tr>\n",
       "      <th>2000-01-03</th>\n",
       "      <td>26.70</td>\n",
       "      <td>NaN</td>\n",
       "    </tr>\n",
       "    <tr>\n",
       "      <th>2000-01-04</th>\n",
       "      <td>26.85</td>\n",
       "      <td>0.005618</td>\n",
       "    </tr>\n",
       "    <tr>\n",
       "      <th>2000-01-05</th>\n",
       "      <td>26.30</td>\n",
       "      <td>-0.020484</td>\n",
       "    </tr>\n",
       "    <tr>\n",
       "      <th>2000-01-06</th>\n",
       "      <td>25.95</td>\n",
       "      <td>-0.013308</td>\n",
       "    </tr>\n",
       "    <tr>\n",
       "      <th>2000-01-07</th>\n",
       "      <td>24.80</td>\n",
       "      <td>-0.044316</td>\n",
       "    </tr>\n",
       "  </tbody>\n",
       "</table>\n",
       "</div>"
      ],
      "text/plain": [
       "            Close   returns\n",
       "Date                       \n",
       "2000-01-03  26.70       NaN\n",
       "2000-01-04  26.85  0.005618\n",
       "2000-01-05  26.30 -0.020484\n",
       "2000-01-06  25.95 -0.013308\n",
       "2000-01-07  24.80 -0.044316"
      ]
     },
     "execution_count": 11,
     "metadata": {},
     "output_type": "execute_result"
    }
   ],
   "source": [
    "df.head(5)"
   ]
  },
  {
   "cell_type": "code",
   "execution_count": 13,
   "metadata": {},
   "outputs": [],
   "source": [
    "df[\"log_returns\"] = np.log(1 + df[\"returns\"])"
   ]
  },
  {
   "cell_type": "code",
   "execution_count": 14,
   "metadata": {},
   "outputs": [
    {
     "data": {
      "text/html": [
       "<div>\n",
       "<style scoped>\n",
       "    .dataframe tbody tr th:only-of-type {\n",
       "        vertical-align: middle;\n",
       "    }\n",
       "\n",
       "    .dataframe tbody tr th {\n",
       "        vertical-align: top;\n",
       "    }\n",
       "\n",
       "    .dataframe thead th {\n",
       "        text-align: right;\n",
       "    }\n",
       "</style>\n",
       "<table border=\"1\" class=\"dataframe\">\n",
       "  <thead>\n",
       "    <tr style=\"text-align: right;\">\n",
       "      <th></th>\n",
       "      <th>Close</th>\n",
       "      <th>returns</th>\n",
       "      <th>log_returns</th>\n",
       "    </tr>\n",
       "    <tr>\n",
       "      <th>Date</th>\n",
       "      <th></th>\n",
       "      <th></th>\n",
       "      <th></th>\n",
       "    </tr>\n",
       "  </thead>\n",
       "  <tbody>\n",
       "    <tr>\n",
       "      <th>2000-01-03</th>\n",
       "      <td>26.70</td>\n",
       "      <td>NaN</td>\n",
       "      <td>NaN</td>\n",
       "    </tr>\n",
       "    <tr>\n",
       "      <th>2000-01-04</th>\n",
       "      <td>26.85</td>\n",
       "      <td>0.005618</td>\n",
       "      <td>0.005602</td>\n",
       "    </tr>\n",
       "    <tr>\n",
       "      <th>2000-01-05</th>\n",
       "      <td>26.30</td>\n",
       "      <td>-0.020484</td>\n",
       "      <td>-0.020697</td>\n",
       "    </tr>\n",
       "    <tr>\n",
       "      <th>2000-01-06</th>\n",
       "      <td>25.95</td>\n",
       "      <td>-0.013308</td>\n",
       "      <td>-0.013397</td>\n",
       "    </tr>\n",
       "    <tr>\n",
       "      <th>2000-01-07</th>\n",
       "      <td>24.80</td>\n",
       "      <td>-0.044316</td>\n",
       "      <td>-0.045328</td>\n",
       "    </tr>\n",
       "  </tbody>\n",
       "</table>\n",
       "</div>"
      ],
      "text/plain": [
       "            Close   returns  log_returns\n",
       "Date                                    \n",
       "2000-01-03  26.70       NaN          NaN\n",
       "2000-01-04  26.85  0.005618     0.005602\n",
       "2000-01-05  26.30 -0.020484    -0.020697\n",
       "2000-01-06  25.95 -0.013308    -0.013397\n",
       "2000-01-07  24.80 -0.044316    -0.045328"
      ]
     },
     "execution_count": 14,
     "metadata": {},
     "output_type": "execute_result"
    }
   ],
   "source": [
    "df.head(5)"
   ]
  },
  {
   "cell_type": "code",
   "execution_count": 15,
   "metadata": {},
   "outputs": [
    {
     "data": {
      "text/plain": [
       "[<matplotlib.lines.Line2D at 0x20e7f9bfac0>]"
      ]
     },
     "execution_count": 15,
     "metadata": {},
     "output_type": "execute_result"
    },
    {
     "data": {
      "image/png": "[encoded data removed]",
      "text/plain": [
       "<Figure size 1152x288 with 1 Axes>"
      ]
     },
     "metadata": {
      "needs_background": "light"
     },
     "output_type": "display_data"
    }
   ],
   "source": [
    "plt.figure(1, figsize=(16, 4))\n",
    "plt.plot(df.log_returns)"
   ]
  },
  {
   "cell_type": "code",
   "execution_count": 16,
   "metadata": {},
   "outputs": [],
   "source": [
    "df.dropna(inplace=True)\n",
    "X = df[[\"Close\", \"log_returns\"]].values"
   ]
  },
  {
   "cell_type": "code",
   "execution_count": 17,
   "metadata": {},
   "outputs": [
    {
     "data": {
      "text/plain": [
       "array([[ 2.68500000e+01,  5.60225555e-03],\n",
       "       [ 2.63000000e+01, -2.06968818e-02],\n",
       "       [ 2.59500000e+01, -1.33973296e-02],\n",
       "       ...,\n",
       "       [ 7.08150000e+02,  1.22186645e-02],\n",
       "       [ 7.19400000e+02,  1.57615956e-02],\n",
       "       [ 7.14900000e+02, -6.27485849e-03]])"
      ]
     },
     "execution_count": 17,
     "metadata": {},
     "output_type": "execute_result"
    }
   ],
   "source": [
    "X"
   ]
  },
  {
   "cell_type": "code",
   "execution_count": 18,
   "metadata": {},
   "outputs": [],
   "source": [
    "from sklearn.preprocessing import MinMaxScaler"
   ]
  },
  {
   "cell_type": "code",
   "execution_count": 19,
   "metadata": {},
   "outputs": [],
   "source": [
    "scaler = MinMaxScaler(feature_range=(0, 1)).fit(X)\n",
    "X_scaled = scaler.transform(X)"
   ]
  },
  {
   "cell_type": "code",
   "execution_count": 20,
   "metadata": {},
   "outputs": [
    {
     "data": {
      "text/plain": [
       "array([[0.00234859, 0.90144592],\n",
       "       [0.00207376, 0.88680804],\n",
       "       [0.00189886, 0.89087091],\n",
       "       [0.00132421, 0.8730986 ],\n",
       "       [0.00142415, 0.90279839]])"
      ]
     },
     "execution_count": 20,
     "metadata": {},
     "output_type": "execute_result"
    }
   ],
   "source": [
    "X_scaled[:5]"
   ]
  },
  {
   "cell_type": "code",
   "execution_count": 21,
   "metadata": {},
   "outputs": [],
   "source": [
    "y = [x[0] for x in X_scaled]"
   ]
  },
  {
   "cell_type": "code",
   "execution_count": 22,
   "metadata": {},
   "outputs": [
    {
     "data": {
      "text/plain": [
       "[0.0023485908454927065,\n",
       " 0.00207375574655207,\n",
       " 0.0018988606835898484,\n",
       " 0.001324205476713974,\n",
       " 0.0014241455126923867]"
      ]
     },
     "execution_count": 22,
     "metadata": {},
     "output_type": "execute_result"
    }
   ],
   "source": [
    "y[:5]"
   ]
  },
  {
   "cell_type": "code",
   "execution_count": 23,
   "metadata": {},
   "outputs": [
    {
     "name": "stdout",
     "output_type": "stream",
     "text": [
      "4244\n"
     ]
    }
   ],
   "source": [
    "split = int(len(X_scaled) * 0.8)\n",
    "print(split)"
   ]
  },
  {
   "cell_type": "code",
   "execution_count": 24,
   "metadata": {},
   "outputs": [],
   "source": [
    "X_train = X_scaled[:split]\n",
    "X_test = X_scaled[split : len(X_scaled)]\n",
    "y_train = y[:split]\n",
    "y_test = y[split : len(y)]"
   ]
  },
  {
   "cell_type": "code",
   "execution_count": 25,
   "metadata": {},
   "outputs": [],
   "source": [
    "assert len(X_train) == len(y_train)\n",
    "assert len(X_test) == len(y_test)"
   ]
  },
  {
   "cell_type": "code",
   "execution_count": 26,
   "metadata": {},
   "outputs": [],
   "source": [
    "n = 5\n",
    "Xtrain = []\n",
    "ytrain = []\n",
    "Xtest = []\n",
    "ytest = []\n",
    "for i in range(n, len(X_train)):\n",
    "    Xtrain.append(X_train[i - n : i, : X_train.shape[1]])\n",
    "    ytrain.append(y_train[i])  # predict next record\n",
    "for i in range(n, len(X_test)):\n",
    "    Xtest.append(X_test[i - n : i, : X_test.shape[1]])\n",
    "    ytest.append(y_test[i])  # predict next record"
   ]
  },
  {
   "cell_type": "code",
   "execution_count": 27,
   "metadata": {},
   "outputs": [
    {
     "data": {
      "text/html": [
       "<div>\n",
       "<style scoped>\n",
       "    .dataframe tbody tr th:only-of-type {\n",
       "        vertical-align: middle;\n",
       "    }\n",
       "\n",
       "    .dataframe tbody tr th {\n",
       "        vertical-align: top;\n",
       "    }\n",
       "\n",
       "    .dataframe thead th {\n",
       "        text-align: right;\n",
       "    }\n",
       "</style>\n",
       "<table border=\"1\" class=\"dataframe\">\n",
       "  <thead>\n",
       "    <tr style=\"text-align: right;\">\n",
       "      <th></th>\n",
       "      <th>Close</th>\n",
       "      <th>returns</th>\n",
       "      <th>log_returns</th>\n",
       "    </tr>\n",
       "    <tr>\n",
       "      <th>Date</th>\n",
       "      <th></th>\n",
       "      <th></th>\n",
       "      <th></th>\n",
       "    </tr>\n",
       "  </thead>\n",
       "  <tbody>\n",
       "    <tr>\n",
       "      <th>2000-01-04</th>\n",
       "      <td>26.85</td>\n",
       "      <td>0.005618</td>\n",
       "      <td>0.005602</td>\n",
       "    </tr>\n",
       "    <tr>\n",
       "      <th>2000-01-05</th>\n",
       "      <td>26.30</td>\n",
       "      <td>-0.020484</td>\n",
       "      <td>-0.020697</td>\n",
       "    </tr>\n",
       "    <tr>\n",
       "      <th>2000-01-06</th>\n",
       "      <td>25.95</td>\n",
       "      <td>-0.013308</td>\n",
       "      <td>-0.013397</td>\n",
       "    </tr>\n",
       "    <tr>\n",
       "      <th>2000-01-07</th>\n",
       "      <td>24.80</td>\n",
       "      <td>-0.044316</td>\n",
       "      <td>-0.045328</td>\n",
       "    </tr>\n",
       "    <tr>\n",
       "      <th>2000-01-10</th>\n",
       "      <td>25.00</td>\n",
       "      <td>0.008065</td>\n",
       "      <td>0.008032</td>\n",
       "    </tr>\n",
       "  </tbody>\n",
       "</table>\n",
       "</div>"
      ],
      "text/plain": [
       "            Close   returns  log_returns\n",
       "Date                                    \n",
       "2000-01-04  26.85  0.005618     0.005602\n",
       "2000-01-05  26.30 -0.020484    -0.020697\n",
       "2000-01-06  25.95 -0.013308    -0.013397\n",
       "2000-01-07  24.80 -0.044316    -0.045328\n",
       "2000-01-10  25.00  0.008065     0.008032"
      ]
     },
     "execution_count": 27,
     "metadata": {},
     "output_type": "execute_result"
    }
   ],
   "source": [
    "df.head(5)"
   ]
  },
  {
   "cell_type": "code",
   "execution_count": 28,
   "metadata": {},
   "outputs": [
    {
     "data": {
      "text/plain": [
       "array([[0.00234859, 0.90144592],\n",
       "       [0.00207376, 0.88680804],\n",
       "       [0.00189886, 0.89087091],\n",
       "       [0.00132421, 0.8730986 ],\n",
       "       [0.00142415, 0.90279839]])"
      ]
     },
     "execution_count": 28,
     "metadata": {},
     "output_type": "execute_result"
    }
   ],
   "source": [
    "Xtrain[0]"
   ]
  },
  {
   "cell_type": "code",
   "execution_count": 29,
   "metadata": {},
   "outputs": [
    {
     "data": {
      "text/plain": [
       "0.0005246851888866689"
      ]
     },
     "execution_count": 29,
     "metadata": {},
     "output_type": "execute_result"
    }
   ],
   "source": [
    "ytrain[0]"
   ]
  },
  {
   "cell_type": "code",
   "execution_count": 30,
   "metadata": {},
   "outputs": [],
   "source": [
    "val = np.array(ytrain[0])\n",
    "val = np.c_[val, np.zeros(val.shape)]"
   ]
  },
  {
   "cell_type": "code",
   "execution_count": 31,
   "metadata": {},
   "outputs": [
    {
     "data": {
      "text/plain": [
       "array([[23.2       , -1.61398051]])"
      ]
     },
     "execution_count": 31,
     "metadata": {},
     "output_type": "execute_result"
    }
   ],
   "source": [
    "scaler.inverse_transform(val)"
   ]
  },
  {
   "cell_type": "code",
   "execution_count": 32,
   "metadata": {},
   "outputs": [],
   "source": [
    "Xtrain, ytrain = (np.array(Xtrain), np.array(ytrain))\n",
    "Xtrain = np.reshape(Xtrain, (Xtrain.shape[0], Xtrain.shape[1], Xtrain.shape[2]))\n",
    "\n",
    "Xtest, ytest = (np.array(Xtest), np.array(ytest))\n",
    "Xtest = np.reshape(Xtest, (Xtest.shape[0], Xtest.shape[1], Xtest.shape[2]))"
   ]
  },
  {
   "cell_type": "code",
   "execution_count": 33,
   "metadata": {
    "scrolled": true
   },
   "outputs": [
    {
     "name": "stdout",
     "output_type": "stream",
     "text": [
      "(4239, 5, 2)\n",
      "(4239,)\n",
      "---\n",
      "(1056, 5, 2)\n",
      "(1056,)\n"
     ]
    }
   ],
   "source": [
    "print(Xtrain.shape)\n",
    "print(ytrain.shape)\n",
    "print(\"---\")\n",
    "print(Xtest.shape)\n",
    "print(ytest.shape)"
   ]
  },
  {
   "cell_type": "code",
   "execution_count": 34,
   "metadata": {},
   "outputs": [],
   "source": [
    "from keras.models import Sequential\n",
    "from keras.layers import LSTM, Dense"
   ]
  },
  {
   "cell_type": "code",
   "execution_count": 35,
   "metadata": {
    "scrolled": true
   },
   "outputs": [
    {
     "name": "stdout",
     "output_type": "stream",
     "text": [
      "Epoch 1/250\n",
      "265/265 [==============================] - 18s 4ms/step - loss: 0.0801 - val_loss: 9.4331e-04\n",
      "Epoch 2/250\n",
      "265/265 [==============================] - 0s 2ms/step - loss: 0.0091 - val_loss: 2.2517e-04\n",
      "Epoch 3/250\n",
      "265/265 [==============================] - 0s 2ms/step - loss: 5.8761e-04 - val_loss: 1.1203e-04\n",
      "Epoch 4/250\n",
      "265/265 [==============================] - 0s 2ms/step - loss: 3.9021e-04 - val_loss: 1.0088e-04\n",
      "Epoch 5/250\n",
      "265/265 [==============================] - 0s 2ms/step - loss: 4.2679e-04 - val_loss: 9.6368e-05\n",
      "Epoch 6/250\n",
      "265/265 [==============================] - 0s 2ms/step - loss: 3.0715e-04 - val_loss: 1.8667e-04\n",
      "Epoch 7/250\n",
      "265/265 [==============================] - 0s 2ms/step - loss: 5.1545e-04 - val_loss: 9.5448e-05\n",
      "Epoch 8/250\n",
      "265/265 [==============================] - 0s 2ms/step - loss: 5.5611e-04 - val_loss: 9.5397e-05\n",
      "Epoch 9/250\n",
      "265/265 [==============================] - 0s 2ms/step - loss: 4.5649e-04 - val_loss: 9.4805e-05\n",
      "Epoch 10/250\n",
      "265/265 [==============================] - 0s 2ms/step - loss: 4.1480e-04 - val_loss: 9.0319e-05\n",
      "Epoch 11/250\n",
      "265/265 [==============================] - 0s 2ms/step - loss: 3.8883e-04 - val_loss: 1.0378e-04\n",
      "Epoch 12/250\n",
      "265/265 [==============================] - 0s 2ms/step - loss: 5.7876e-04 - val_loss: 8.5185e-05\n",
      "Epoch 13/250\n",
      "265/265 [==============================] - 0s 2ms/step - loss: 3.4635e-04 - val_loss: 8.3099e-05\n",
      "Epoch 14/250\n",
      "265/265 [==============================] - 0s 2ms/step - loss: 3.6273e-04 - val_loss: 9.6334e-05\n",
      "Epoch 15/250\n",
      "265/265 [==============================] - 0s 2ms/step - loss: 3.5559e-04 - val_loss: 1.1383e-04\n",
      "Epoch 16/250\n",
      "265/265 [==============================] - 1s 3ms/step - loss: 5.2279e-04 - val_loss: 1.1896e-04\n",
      "Epoch 17/250\n",
      "265/265 [==============================] - 1s 2ms/step - loss: 3.3705e-04 - val_loss: 1.0487e-04\n",
      "Epoch 18/250\n",
      "265/265 [==============================] - 1s 2ms/step - loss: 4.8229e-04 - val_loss: 8.1982e-05\n",
      "Epoch 19/250\n",
      "265/265 [==============================] - 0s 2ms/step - loss: 3.3413e-04 - val_loss: 8.4427e-05\n",
      "Epoch 20/250\n",
      "265/265 [==============================] - 1s 2ms/step - loss: 3.0121e-04 - val_loss: 7.4241e-05\n",
      "Epoch 21/250\n",
      "265/265 [==============================] - 0s 2ms/step - loss: 3.0400e-04 - val_loss: 6.9905e-05\n",
      "Epoch 22/250\n",
      "265/265 [==============================] - 0s 2ms/step - loss: 4.7046e-04 - val_loss: 6.8583e-05\n",
      "Epoch 23/250\n",
      "265/265 [==============================] - 0s 2ms/step - loss: 2.1861e-04 - val_loss: 7.1859e-05\n",
      "Epoch 24/250\n",
      "265/265 [==============================] - 1s 2ms/step - loss: 3.0092e-04 - val_loss: 7.9509e-05\n",
      "Epoch 25/250\n",
      "265/265 [==============================] - 0s 2ms/step - loss: 5.1683e-04 - val_loss: 6.3500e-05\n",
      "Epoch 26/250\n",
      "265/265 [==============================] - 0s 2ms/step - loss: 3.6262e-04 - val_loss: 6.4852e-05\n",
      "Epoch 27/250\n",
      "265/265 [==============================] - 0s 1ms/step - loss: 2.1445e-04 - val_loss: 5.9484e-05\n",
      "Epoch 28/250\n",
      "265/265 [==============================] - 0s 2ms/step - loss: 2.3605e-04 - val_loss: 6.1440e-05\n",
      "Epoch 29/250\n",
      "265/265 [==============================] - 1s 2ms/step - loss: 2.9846e-04 - val_loss: 5.5970e-05\n",
      "Epoch 30/250\n",
      "265/265 [==============================] - 1s 2ms/step - loss: 2.3036e-04 - val_loss: 5.8639e-05\n",
      "Epoch 31/250\n",
      "265/265 [==============================] - 0s 2ms/step - loss: 3.0784e-04 - val_loss: 5.6860e-05\n",
      "Epoch 32/250\n",
      "265/265 [==============================] - 0s 2ms/step - loss: 2.6508e-04 - val_loss: 5.3331e-05\n",
      "Epoch 33/250\n",
      "265/265 [==============================] - 0s 2ms/step - loss: 3.8382e-04 - val_loss: 5.3862e-05\n",
      "Epoch 34/250\n",
      "265/265 [==============================] - 0s 2ms/step - loss: 3.8797e-04 - val_loss: 5.2990e-05\n",
      "Epoch 35/250\n",
      "265/265 [==============================] - 0s 2ms/step - loss: 3.5328e-04 - val_loss: 5.0022e-05\n",
      "Epoch 36/250\n",
      "265/265 [==============================] - 0s 2ms/step - loss: 2.4160e-04 - val_loss: 6.5223e-05\n",
      "Epoch 37/250\n",
      "265/265 [==============================] - 0s 2ms/step - loss: 1.8516e-04 - val_loss: 4.9965e-05\n",
      "Epoch 38/250\n",
      "265/265 [==============================] - 2s 7ms/step - loss: 4.0190e-04 - val_loss: 4.8414e-05\n",
      "Epoch 39/250\n",
      "265/265 [==============================] - 1s 2ms/step - loss: 3.5876e-04 - val_loss: 4.8159e-05\n",
      "Epoch 40/250\n",
      "265/265 [==============================] - 1s 2ms/step - loss: 2.2515e-04 - val_loss: 4.8095e-05\n",
      "Epoch 41/250\n",
      "265/265 [==============================] - 1s 2ms/step - loss: 1.7754e-04 - val_loss: 4.8841e-05\n",
      "Epoch 42/250\n",
      "265/265 [==============================] - 1s 3ms/step - loss: 2.1990e-04 - val_loss: 5.0362e-05\n",
      "Epoch 43/250\n",
      "265/265 [==============================] - 1s 3ms/step - loss: 1.2865e-04 - val_loss: 1.6912e-04\n",
      "Epoch 44/250\n",
      "265/265 [==============================] - 1s 2ms/step - loss: 6.1192e-04 - val_loss: 6.0603e-05\n",
      "Epoch 45/250\n",
      "265/265 [==============================] - 1s 2ms/step - loss: 1.5212e-04 - val_loss: 4.9278e-05\n",
      "Epoch 46/250\n",
      "265/265 [==============================] - 0s 2ms/step - loss: 3.9177e-04 - val_loss: 4.7900e-05\n",
      "Epoch 47/250\n",
      "265/265 [==============================] - 1s 2ms/step - loss: 3.5658e-04 - val_loss: 5.0447e-05\n",
      "Epoch 48/250\n",
      "265/265 [==============================] - 0s 2ms/step - loss: 1.4755e-04 - val_loss: 6.7351e-05\n",
      "Epoch 49/250\n",
      "265/265 [==============================] - 0s 2ms/step - loss: 1.8646e-04 - val_loss: 4.7608e-05\n",
      "Epoch 50/250\n",
      "265/265 [==============================] - 0s 2ms/step - loss: 3.0411e-04 - val_loss: 6.0289e-05\n",
      "Epoch 51/250\n",
      "265/265 [==============================] - 1s 3ms/step - loss: 2.0355e-04 - val_loss: 4.6984e-05\n",
      "Epoch 52/250\n",
      "265/265 [==============================] - 1s 2ms/step - loss: 2.1447e-04 - val_loss: 4.9855e-05\n",
      "Epoch 53/250\n",
      "265/265 [==============================] - 1s 2ms/step - loss: 3.9133e-04 - val_loss: 4.8035e-05\n",
      "Epoch 54/250\n",
      "265/265 [==============================] - 1s 2ms/step - loss: 5.9218e-04 - val_loss: 4.8448e-05\n",
      "Epoch 55/250\n",
      "265/265 [==============================] - 1s 3ms/step - loss: 5.1695e-04 - val_loss: 5.3151e-05\n",
      "Epoch 56/250\n",
      "265/265 [==============================] - 1s 2ms/step - loss: 2.9381e-04 - val_loss: 4.7847e-05\n",
      "Epoch 57/250\n",
      "265/265 [==============================] - 1s 2ms/step - loss: 1.4849e-04 - val_loss: 4.8077e-05\n",
      "Epoch 58/250\n",
      "265/265 [==============================] - 1s 2ms/step - loss: 2.0205e-04 - val_loss: 5.4221e-05\n",
      "Epoch 59/250\n",
      "265/265 [==============================] - 1s 2ms/step - loss: 1.3816e-04 - val_loss: 4.7058e-05\n",
      "Epoch 60/250\n",
      "265/265 [==============================] - 1s 2ms/step - loss: 4.7009e-04 - val_loss: 4.6693e-05\n",
      "Epoch 61/250\n",
      "265/265 [==============================] - 0s 2ms/step - loss: 2.2492e-04 - val_loss: 4.5936e-05\n",
      "Epoch 62/250\n",
      "265/265 [==============================] - 1s 2ms/step - loss: 1.7099e-04 - val_loss: 4.6101e-05\n",
      "Epoch 63/250\n",
      "265/265 [==============================] - 0s 2ms/step - loss: 5.1555e-04 - val_loss: 6.4182e-05\n",
      "Epoch 64/250\n",
      "265/265 [==============================] - 1s 2ms/step - loss: 3.1992e-04 - val_loss: 4.9984e-05\n",
      "Epoch 65/250\n",
      "265/265 [==============================] - 1s 2ms/step - loss: 3.1590e-04 - val_loss: 4.7825e-05\n",
      "Epoch 66/250\n",
      "265/265 [==============================] - 1s 2ms/step - loss: 1.1706e-04 - val_loss: 8.8695e-05\n",
      "Epoch 67/250\n",
      "265/265 [==============================] - 0s 2ms/step - loss: 3.2755e-04 - val_loss: 4.6409e-05\n",
      "Epoch 68/250\n",
      "265/265 [==============================] - 1s 2ms/step - loss: 2.6147e-04 - val_loss: 4.8996e-05\n",
      "Epoch 69/250\n",
      "265/265 [==============================] - 1s 2ms/step - loss: 1.1947e-04 - val_loss: 7.2683e-05\n",
      "Epoch 70/250\n",
      "265/265 [==============================] - 1s 2ms/step - loss: 2.3083e-04 - val_loss: 4.7375e-05\n",
      "Epoch 71/250\n",
      "265/265 [==============================] - 1s 2ms/step - loss: 1.0053e-04 - val_loss: 4.9492e-04\n",
      "Epoch 72/250\n",
      "265/265 [==============================] - 1s 2ms/step - loss: 2.6241e-04 - val_loss: 8.3312e-05\n",
      "Epoch 73/250\n",
      "265/265 [==============================] - 0s 2ms/step - loss: 6.4171e-04 - val_loss: 4.7514e-05\n",
      "Epoch 74/250\n",
      "265/265 [==============================] - 1s 2ms/step - loss: 4.0546e-04 - val_loss: 4.6303e-05\n",
      "Epoch 75/250\n",
      "265/265 [==============================] - 1s 2ms/step - loss: 3.3102e-04 - val_loss: 5.4941e-05\n",
      "Epoch 76/250\n",
      "265/265 [==============================] - 1s 2ms/step - loss: 1.4237e-04 - val_loss: 6.2237e-05\n",
      "Epoch 77/250\n",
      "265/265 [==============================] - 1s 2ms/step - loss: 1.3412e-04 - val_loss: 4.6253e-05\n",
      "Epoch 78/250\n",
      "265/265 [==============================] - 1s 2ms/step - loss: 1.6579e-04 - val_loss: 5.1904e-05\n",
      "Epoch 79/250\n",
      "265/265 [==============================] - 1s 2ms/step - loss: 2.7256e-04 - val_loss: 6.2590e-05\n",
      "Epoch 80/250\n",
      "265/265 [==============================] - 1s 2ms/step - loss: 4.3853e-04 - val_loss: 4.6121e-05\n",
      "Epoch 81/250\n",
      "265/265 [==============================] - 1s 2ms/step - loss: 1.7974e-04 - val_loss: 5.2415e-05\n",
      "Epoch 82/250\n",
      "265/265 [==============================] - 1s 2ms/step - loss: 1.4909e-04 - val_loss: 4.5642e-05\n",
      "Epoch 83/250\n",
      "265/265 [==============================] - 1s 2ms/step - loss: 4.0989e-04 - val_loss: 5.8282e-05\n",
      "Epoch 84/250\n",
      "265/265 [==============================] - 1s 2ms/step - loss: 2.1215e-04 - val_loss: 4.6539e-05\n",
      "Epoch 85/250\n",
      "265/265 [==============================] - 1s 2ms/step - loss: 2.2998e-04 - val_loss: 4.6418e-05\n",
      "Epoch 86/250\n",
      "265/265 [==============================] - 1s 2ms/step - loss: 3.2191e-04 - val_loss: 4.5315e-05\n",
      "Epoch 87/250\n",
      "265/265 [==============================] - 1s 2ms/step - loss: 1.5042e-04 - val_loss: 4.9899e-05\n",
      "Epoch 88/250\n",
      "265/265 [==============================] - 1s 2ms/step - loss: 1.4934e-04 - val_loss: 4.7465e-05\n",
      "Epoch 89/250\n",
      "265/265 [==============================] - 1s 2ms/step - loss: 4.1669e-04 - val_loss: 4.5574e-05\n",
      "Epoch 90/250\n",
      "265/265 [==============================] - 1s 2ms/step - loss: 2.3812e-04 - val_loss: 4.8509e-05\n",
      "Epoch 91/250\n",
      "265/265 [==============================] - 1s 2ms/step - loss: 4.1275e-04 - val_loss: 5.6704e-05\n",
      "Epoch 92/250\n",
      "265/265 [==============================] - 1s 2ms/step - loss: 2.4174e-04 - val_loss: 5.9185e-05\n",
      "Epoch 93/250\n",
      "265/265 [==============================] - 1s 2ms/step - loss: 1.2310e-04 - val_loss: 4.7214e-05\n",
      "Epoch 94/250\n",
      "265/265 [==============================] - 1s 2ms/step - loss: 6.8126e-04 - val_loss: 4.5473e-05\n",
      "Epoch 95/250\n",
      "265/265 [==============================] - 1s 2ms/step - loss: 1.0889e-04 - val_loss: 1.4331e-04\n",
      "Epoch 96/250\n",
      "265/265 [==============================] - 1s 2ms/step - loss: 1.5144e-04 - val_loss: 5.5776e-05\n",
      "Epoch 97/250\n",
      "265/265 [==============================] - 1s 2ms/step - loss: 1.1922e-04 - val_loss: 5.2822e-05\n",
      "Epoch 98/250\n",
      "265/265 [==============================] - 1s 2ms/step - loss: 1.1096e-04 - val_loss: 9.2894e-05\n",
      "Epoch 99/250\n",
      "265/265 [==============================] - 1s 2ms/step - loss: 5.3385e-04 - val_loss: 5.1062e-05\n",
      "Epoch 100/250\n",
      "265/265 [==============================] - 1s 2ms/step - loss: 1.0472e-04 - val_loss: 1.5789e-04\n",
      "Epoch 101/250\n",
      "265/265 [==============================] - 1s 2ms/step - loss: 2.9945e-04 - val_loss: 4.9531e-05\n",
      "Epoch 102/250\n",
      "265/265 [==============================] - 1s 2ms/step - loss: 2.2120e-04 - val_loss: 4.9334e-05\n",
      "Epoch 103/250\n",
      "265/265 [==============================] - 1s 2ms/step - loss: 2.6921e-04 - val_loss: 5.2715e-05\n",
      "Epoch 104/250\n",
      "265/265 [==============================] - 1s 2ms/step - loss: 2.1639e-04 - val_loss: 4.8734e-05\n",
      "Epoch 105/250\n",
      "265/265 [==============================] - 1s 2ms/step - loss: 1.3355e-04 - val_loss: 4.5652e-05\n",
      "Epoch 106/250\n",
      "265/265 [==============================] - 1s 2ms/step - loss: 1.2955e-04 - val_loss: 4.6033e-05\n",
      "Epoch 107/250\n",
      "265/265 [==============================] - 1s 2ms/step - loss: 1.2095e-04 - val_loss: 9.8799e-05\n",
      "Epoch 108/250\n",
      "265/265 [==============================] - 1s 2ms/step - loss: 2.6601e-04 - val_loss: 4.9779e-05\n",
      "Epoch 109/250\n",
      "265/265 [==============================] - 1s 2ms/step - loss: 1.4143e-04 - val_loss: 5.7376e-05\n",
      "Epoch 110/250\n",
      "265/265 [==============================] - 1s 2ms/step - loss: 2.1643e-04 - val_loss: 4.9754e-05\n",
      "Epoch 111/250\n",
      "265/265 [==============================] - 1s 2ms/step - loss: 9.2579e-05 - val_loss: 5.4841e-05\n",
      "Epoch 112/250\n",
      "265/265 [==============================] - 1s 2ms/step - loss: 2.0944e-04 - val_loss: 4.6265e-05\n",
      "Epoch 113/250\n",
      "265/265 [==============================] - 1s 2ms/step - loss: 2.2300e-04 - val_loss: 5.0224e-05\n",
      "Epoch 114/250\n",
      "265/265 [==============================] - 1s 2ms/step - loss: 2.1097e-04 - val_loss: 8.1387e-05\n",
      "Epoch 115/250\n",
      "265/265 [==============================] - 1s 2ms/step - loss: 4.2760e-04 - val_loss: 4.6415e-05\n",
      "Epoch 116/250\n",
      "265/265 [==============================] - 1s 2ms/step - loss: 1.6905e-04 - val_loss: 4.4868e-05\n",
      "Epoch 117/250\n",
      "265/265 [==============================] - 1s 2ms/step - loss: 2.8161e-04 - val_loss: 4.6835e-05\n",
      "Epoch 118/250\n",
      "265/265 [==============================] - 1s 2ms/step - loss: 2.6864e-04 - val_loss: 5.0004e-05\n",
      "Epoch 119/250\n",
      "265/265 [==============================] - 1s 2ms/step - loss: 1.4123e-04 - val_loss: 4.6230e-05\n",
      "Epoch 120/250\n",
      "265/265 [==============================] - 1s 2ms/step - loss: 2.1264e-04 - val_loss: 4.9391e-05\n",
      "Epoch 121/250\n",
      "265/265 [==============================] - 1s 2ms/step - loss: 4.6313e-04 - val_loss: 4.5285e-05\n",
      "Epoch 122/250\n",
      "265/265 [==============================] - 1s 2ms/step - loss: 2.5559e-04 - val_loss: 4.4959e-05\n",
      "Epoch 123/250\n",
      "265/265 [==============================] - 1s 2ms/step - loss: 1.9315e-04 - val_loss: 4.8598e-05\n",
      "Epoch 124/250\n",
      "265/265 [==============================] - 1s 2ms/step - loss: 1.6748e-04 - val_loss: 4.7914e-05\n",
      "Epoch 125/250\n",
      "265/265 [==============================] - 1s 2ms/step - loss: 1.2729e-04 - val_loss: 8.2751e-05\n",
      "Epoch 126/250\n",
      "265/265 [==============================] - 1s 2ms/step - loss: 4.5137e-04 - val_loss: 4.5251e-05\n",
      "Epoch 127/250\n",
      "265/265 [==============================] - 1s 2ms/step - loss: 3.6035e-04 - val_loss: 4.6643e-05\n",
      "Epoch 128/250\n",
      "265/265 [==============================] - 1s 2ms/step - loss: 1.6556e-04 - val_loss: 4.6051e-05\n",
      "Epoch 129/250\n",
      "265/265 [==============================] - 1s 2ms/step - loss: 1.1340e-04 - val_loss: 1.1698e-04\n",
      "Epoch 130/250\n",
      "265/265 [==============================] - 1s 2ms/step - loss: 2.0015e-04 - val_loss: 4.5827e-05\n",
      "Epoch 131/250\n",
      "265/265 [==============================] - 1s 2ms/step - loss: 1.0463e-04 - val_loss: 4.5887e-05\n",
      "Epoch 132/250\n",
      "265/265 [==============================] - 1s 2ms/step - loss: 2.1062e-04 - val_loss: 5.0054e-05\n",
      "Epoch 133/250\n",
      "265/265 [==============================] - 1s 2ms/step - loss: 3.2591e-04 - val_loss: 4.8630e-05\n",
      "Epoch 134/250\n",
      "265/265 [==============================] - 1s 2ms/step - loss: 4.3034e-04 - val_loss: 4.5817e-05\n",
      "Epoch 135/250\n",
      "265/265 [==============================] - 1s 2ms/step - loss: 3.6580e-04 - val_loss: 4.5685e-05\n",
      "Epoch 136/250\n",
      "265/265 [==============================] - 1s 2ms/step - loss: 2.1782e-04 - val_loss: 4.4677e-05\n",
      "Epoch 137/250\n",
      "265/265 [==============================] - 1s 2ms/step - loss: 2.3563e-04 - val_loss: 6.4239e-05\n",
      "Epoch 138/250\n",
      "265/265 [==============================] - 1s 2ms/step - loss: 2.9872e-04 - val_loss: 4.4786e-05\n",
      "Epoch 139/250\n",
      "265/265 [==============================] - 0s 2ms/step - loss: 1.5030e-04 - val_loss: 4.5428e-05\n",
      "Epoch 140/250\n",
      "265/265 [==============================] - 1s 3ms/step - loss: 1.9095e-04 - val_loss: 4.9673e-05\n",
      "Epoch 141/250\n",
      "265/265 [==============================] - 0s 2ms/step - loss: 3.8000e-04 - val_loss: 4.5847e-05\n",
      "Epoch 142/250\n",
      "265/265 [==============================] - 0s 2ms/step - loss: 1.1610e-04 - val_loss: 4.6262e-05\n",
      "Epoch 143/250\n",
      "265/265 [==============================] - 0s 2ms/step - loss: 2.3293e-04 - val_loss: 5.2958e-05\n",
      "Epoch 144/250\n",
      "265/265 [==============================] - 0s 2ms/step - loss: 4.1451e-04 - val_loss: 4.7550e-05\n",
      "Epoch 145/250\n",
      "265/265 [==============================] - 1s 2ms/step - loss: 1.2395e-04 - val_loss: 4.6381e-05\n",
      "Epoch 146/250\n",
      "265/265 [==============================] - 1s 2ms/step - loss: 1.9019e-04 - val_loss: 6.0436e-05\n",
      "Epoch 147/250\n",
      "265/265 [==============================] - 1s 2ms/step - loss: 2.1409e-04 - val_loss: 5.6598e-05\n",
      "Epoch 148/250\n",
      "265/265 [==============================] - 1s 4ms/step - loss: 7.0518e-04 - val_loss: 4.7923e-05\n",
      "Epoch 149/250\n"
     ]
    },
    {
     "name": "stdout",
     "output_type": "stream",
     "text": [
      "265/265 [==============================] - 0s 2ms/step - loss: 8.8460e-05 - val_loss: 8.4957e-05\n",
      "Epoch 150/250\n",
      "265/265 [==============================] - 0s 1ms/step - loss: 3.2269e-04 - val_loss: 4.5127e-05\n",
      "Epoch 151/250\n",
      "265/265 [==============================] - 0s 2ms/step - loss: 2.5961e-04 - val_loss: 4.7634e-05\n",
      "Epoch 152/250\n",
      "265/265 [==============================] - 0s 2ms/step - loss: 2.6409e-04 - val_loss: 5.2765e-05\n",
      "Epoch 153/250\n",
      "265/265 [==============================] - 0s 2ms/step - loss: 1.5083e-04 - val_loss: 4.4373e-05\n",
      "Epoch 154/250\n",
      "265/265 [==============================] - 0s 2ms/step - loss: 2.9684e-04 - val_loss: 4.5032e-05\n",
      "Epoch 155/250\n",
      "265/265 [==============================] - 0s 2ms/step - loss: 2.2631e-04 - val_loss: 5.9223e-05\n",
      "Epoch 156/250\n",
      "265/265 [==============================] - 0s 2ms/step - loss: 2.7909e-04 - val_loss: 5.1645e-05\n",
      "Epoch 157/250\n",
      "265/265 [==============================] - 1s 2ms/step - loss: 9.6091e-05 - val_loss: 1.0177e-04\n",
      "Epoch 158/250\n",
      "265/265 [==============================] - 0s 2ms/step - loss: 1.2172e-04 - val_loss: 4.8559e-05\n",
      "Epoch 159/250\n",
      "265/265 [==============================] - 0s 2ms/step - loss: 3.0513e-04 - val_loss: 4.4670e-05\n",
      "Epoch 160/250\n",
      "265/265 [==============================] - 0s 2ms/step - loss: 1.3629e-04 - val_loss: 4.8025e-05\n",
      "Epoch 161/250\n",
      "265/265 [==============================] - 0s 2ms/step - loss: 1.1277e-04 - val_loss: 5.0349e-05\n",
      "Epoch 162/250\n",
      "265/265 [==============================] - 0s 2ms/step - loss: 1.5827e-04 - val_loss: 4.4061e-05\n",
      "Epoch 163/250\n",
      "265/265 [==============================] - 0s 2ms/step - loss: 1.5628e-04 - val_loss: 4.5042e-05\n",
      "Epoch 164/250\n",
      "265/265 [==============================] - 0s 2ms/step - loss: 4.0184e-04 - val_loss: 4.4751e-05\n",
      "Epoch 165/250\n",
      "265/265 [==============================] - 0s 2ms/step - loss: 1.1806e-04 - val_loss: 5.3077e-05\n",
      "Epoch 166/250\n",
      "265/265 [==============================] - 1s 2ms/step - loss: 2.0592e-04 - val_loss: 4.8942e-05\n",
      "Epoch 167/250\n",
      "265/265 [==============================] - 1s 3ms/step - loss: 2.9656e-04 - val_loss: 5.6758e-05\n",
      "Epoch 168/250\n",
      "265/265 [==============================] - 0s 2ms/step - loss: 3.1764e-04 - val_loss: 5.7452e-05\n",
      "Epoch 169/250\n",
      "265/265 [==============================] - 0s 2ms/step - loss: 1.6741e-04 - val_loss: 4.5293e-05\n",
      "Epoch 170/250\n",
      "265/265 [==============================] - 0s 2ms/step - loss: 2.0507e-04 - val_loss: 4.7934e-05\n",
      "Epoch 171/250\n",
      "265/265 [==============================] - 0s 2ms/step - loss: 4.5360e-04 - val_loss: 5.9396e-05\n",
      "Epoch 172/250\n",
      "265/265 [==============================] - 0s 2ms/step - loss: 5.3377e-04 - val_loss: 4.8343e-05\n",
      "Epoch 173/250\n",
      "265/265 [==============================] - 0s 2ms/step - loss: 2.6483e-04 - val_loss: 4.8730e-05\n",
      "Epoch 174/250\n",
      "265/265 [==============================] - 0s 2ms/step - loss: 1.1058e-04 - val_loss: 5.7938e-05\n",
      "Epoch 175/250\n",
      "265/265 [==============================] - 0s 2ms/step - loss: 2.2386e-04 - val_loss: 4.4979e-05\n",
      "Epoch 176/250\n",
      "265/265 [==============================] - 0s 2ms/step - loss: 2.4571e-04 - val_loss: 4.5562e-05\n",
      "Epoch 177/250\n",
      "265/265 [==============================] - 1s 2ms/step - loss: 1.3732e-04 - val_loss: 5.1956e-05\n",
      "Epoch 178/250\n",
      "265/265 [==============================] - 0s 2ms/step - loss: 2.0962e-04 - val_loss: 5.4369e-05\n",
      "Epoch 179/250\n",
      "265/265 [==============================] - 0s 2ms/step - loss: 3.4461e-04 - val_loss: 6.0356e-05\n",
      "Epoch 180/250\n",
      "265/265 [==============================] - 1s 2ms/step - loss: 2.6880e-04 - val_loss: 4.5231e-05\n",
      "Epoch 181/250\n",
      "265/265 [==============================] - 0s 2ms/step - loss: 2.3142e-04 - val_loss: 4.7594e-05\n",
      "Epoch 182/250\n",
      "265/265 [==============================] - 0s 2ms/step - loss: 2.0611e-04 - val_loss: 4.4497e-05\n",
      "Epoch 183/250\n",
      "265/265 [==============================] - 0s 2ms/step - loss: 3.2148e-04 - val_loss: 4.6191e-05\n",
      "Epoch 184/250\n",
      "265/265 [==============================] - 1s 2ms/step - loss: 1.9470e-04 - val_loss: 4.7241e-05\n",
      "Epoch 185/250\n",
      "265/265 [==============================] - 1s 2ms/step - loss: 1.4748e-04 - val_loss: 4.5028e-05\n",
      "Epoch 186/250\n",
      "265/265 [==============================] - 0s 2ms/step - loss: 1.8029e-04 - val_loss: 4.4756e-05\n",
      "Epoch 187/250\n",
      "265/265 [==============================] - 0s 2ms/step - loss: 1.0286e-04 - val_loss: 8.1785e-05\n",
      "Epoch 188/250\n",
      "265/265 [==============================] - 0s 2ms/step - loss: 4.2378e-04 - val_loss: 4.5976e-05\n",
      "Epoch 189/250\n",
      "265/265 [==============================] - 0s 2ms/step - loss: 2.5249e-04 - val_loss: 6.4114e-05\n",
      "Epoch 190/250\n",
      "265/265 [==============================] - 0s 2ms/step - loss: 1.0048e-04 - val_loss: 1.5378e-04\n",
      "Epoch 191/250\n",
      "265/265 [==============================] - 0s 2ms/step - loss: 1.7549e-04 - val_loss: 4.6483e-05\n",
      "Epoch 192/250\n",
      "265/265 [==============================] - 0s 2ms/step - loss: 2.2009e-04 - val_loss: 4.6697e-05\n",
      "Epoch 193/250\n",
      "265/265 [==============================] - 0s 2ms/step - loss: 2.3511e-04 - val_loss: 4.5828e-05\n",
      "Epoch 194/250\n",
      "265/265 [==============================] - 1s 3ms/step - loss: 1.2136e-04 - val_loss: 6.6848e-05\n",
      "Epoch 195/250\n",
      "265/265 [==============================] - 0s 2ms/step - loss: 9.9545e-05 - val_loss: 4.9127e-05\n",
      "Epoch 196/250\n",
      "265/265 [==============================] - 0s 2ms/step - loss: 1.5191e-04 - val_loss: 4.8107e-05\n",
      "Epoch 197/250\n",
      "265/265 [==============================] - 0s 2ms/step - loss: 1.2450e-04 - val_loss: 4.7548e-05\n",
      "Epoch 198/250\n",
      "265/265 [==============================] - 1s 2ms/step - loss: 3.1329e-04 - val_loss: 4.6468e-05\n",
      "Epoch 199/250\n",
      "265/265 [==============================] - 1s 3ms/step - loss: 3.8169e-04 - val_loss: 4.8038e-05\n",
      "Epoch 200/250\n",
      "265/265 [==============================] - 1s 3ms/step - loss: 2.9063e-04 - val_loss: 6.7495e-05\n",
      "Epoch 201/250\n",
      "265/265 [==============================] - 1s 2ms/step - loss: 1.5079e-04 - val_loss: 4.8773e-05\n",
      "Epoch 202/250\n",
      "265/265 [==============================] - 1s 2ms/step - loss: 1.7609e-04 - val_loss: 4.8147e-05\n",
      "Epoch 203/250\n",
      "265/265 [==============================] - 1s 2ms/step - loss: 1.5910e-04 - val_loss: 4.5343e-05\n",
      "Epoch 204/250\n",
      "265/265 [==============================] - 1s 2ms/step - loss: 3.3497e-04 - val_loss: 4.4643e-05\n",
      "Epoch 205/250\n",
      "265/265 [==============================] - 0s 2ms/step - loss: 1.6942e-04 - val_loss: 4.5621e-05\n",
      "Epoch 206/250\n",
      "265/265 [==============================] - 1s 2ms/step - loss: 4.4169e-04 - val_loss: 4.9723e-05\n",
      "Epoch 207/250\n",
      "265/265 [==============================] - 1s 2ms/step - loss: 7.1237e-04 - val_loss: 4.4291e-05\n",
      "Epoch 208/250\n",
      "265/265 [==============================] - 0s 2ms/step - loss: 2.0878e-04 - val_loss: 4.3791e-05\n",
      "Epoch 209/250\n",
      "265/265 [==============================] - 0s 2ms/step - loss: 4.4569e-04 - val_loss: 4.5483e-05\n",
      "Epoch 210/250\n",
      "265/265 [==============================] - 1s 2ms/step - loss: 2.4911e-04 - val_loss: 4.7271e-05\n",
      "Epoch 211/250\n",
      "265/265 [==============================] - 1s 2ms/step - loss: 1.3586e-04 - val_loss: 4.4567e-05\n",
      "Epoch 212/250\n",
      "265/265 [==============================] - 1s 3ms/step - loss: 3.8849e-04 - val_loss: 4.5244e-05\n",
      "Epoch 213/250\n",
      "265/265 [==============================] - 1s 3ms/step - loss: 2.0383e-04 - val_loss: 4.4293e-05\n",
      "Epoch 214/250\n",
      "265/265 [==============================] - 1s 2ms/step - loss: 3.1719e-04 - val_loss: 5.2039e-05\n",
      "Epoch 215/250\n",
      "265/265 [==============================] - 0s 2ms/step - loss: 3.0229e-04 - val_loss: 4.5828e-05\n",
      "Epoch 216/250\n",
      "265/265 [==============================] - 0s 2ms/step - loss: 3.4560e-04 - val_loss: 4.7388e-05\n",
      "Epoch 217/250\n",
      "265/265 [==============================] - 0s 1ms/step - loss: 2.3367e-04 - val_loss: 4.5248e-05\n",
      "Epoch 218/250\n",
      "265/265 [==============================] - 1s 2ms/step - loss: 1.2616e-04 - val_loss: 4.8163e-05\n",
      "Epoch 219/250\n",
      "265/265 [==============================] - 1s 2ms/step - loss: 1.3813e-04 - val_loss: 4.4154e-05\n",
      "Epoch 220/250\n",
      "265/265 [==============================] - 1s 3ms/step - loss: 1.3355e-04 - val_loss: 4.6081e-05\n",
      "Epoch 221/250\n",
      "265/265 [==============================] - 0s 2ms/step - loss: 7.2560e-04 - val_loss: 4.9203e-05\n",
      "Epoch 222/250\n",
      "265/265 [==============================] - 0s 2ms/step - loss: 1.4145e-04 - val_loss: 5.1077e-05\n"
     ]
    },
    {
     "name": "stdout",
     "output_type": "stream",
     "text": [
      "Epoch 223/250\n",
      "265/265 [==============================] - 0s 2ms/step - loss: 1.0161e-04 - val_loss: 1.9075e-04\n",
      "Epoch 224/250\n",
      "265/265 [==============================] - 0s 2ms/step - loss: 1.5650e-04 - val_loss: 4.4212e-05\n",
      "Epoch 225/250\n",
      "265/265 [==============================] - 0s 2ms/step - loss: 2.6174e-04 - val_loss: 4.5005e-05\n",
      "Epoch 226/250\n",
      "265/265 [==============================] - 1s 2ms/step - loss: 4.7929e-04 - val_loss: 5.4320e-05\n",
      "Epoch 227/250\n",
      "265/265 [==============================] - 1s 2ms/step - loss: 1.7318e-04 - val_loss: 5.2663e-05\n",
      "Epoch 228/250\n",
      "265/265 [==============================] - 1s 2ms/step - loss: 1.7348e-04 - val_loss: 4.8858e-05\n",
      "Epoch 229/250\n",
      "265/265 [==============================] - 1s 3ms/step - loss: 4.6231e-04 - val_loss: 4.8383e-05\n",
      "Epoch 230/250\n",
      "265/265 [==============================] - 0s 2ms/step - loss: 3.7311e-04 - val_loss: 4.6711e-05\n",
      "Epoch 231/250\n",
      "265/265 [==============================] - 0s 2ms/step - loss: 2.2768e-04 - val_loss: 4.5917e-05\n",
      "Epoch 232/250\n",
      "265/265 [==============================] - 1s 3ms/step - loss: 1.5396e-04 - val_loss: 4.5762e-05\n",
      "Epoch 233/250\n",
      "265/265 [==============================] - 1s 2ms/step - loss: 1.5204e-04 - val_loss: 4.4336e-05\n",
      "Epoch 234/250\n",
      "265/265 [==============================] - 0s 2ms/step - loss: 3.1304e-04 - val_loss: 4.7933e-05\n",
      "Epoch 235/250\n",
      "265/265 [==============================] - 1s 3ms/step - loss: 2.3326e-04 - val_loss: 4.8738e-05\n",
      "Epoch 236/250\n",
      "265/265 [==============================] - 1s 4ms/step - loss: 2.9194e-04 - val_loss: 4.7263e-05\n",
      "Epoch 237/250\n",
      "265/265 [==============================] - 0s 2ms/step - loss: 6.4770e-04 - val_loss: 4.6061e-05\n",
      "Epoch 238/250\n",
      "265/265 [==============================] - 0s 2ms/step - loss: 2.1476e-04 - val_loss: 4.6470e-05\n",
      "Epoch 239/250\n",
      "265/265 [==============================] - 0s 2ms/step - loss: 4.4292e-04 - val_loss: 4.7049e-05\n",
      "Epoch 240/250\n",
      "265/265 [==============================] - 0s 2ms/step - loss: 4.3455e-04 - val_loss: 4.8702e-05\n",
      "Epoch 241/250\n",
      "265/265 [==============================] - 0s 2ms/step - loss: 1.6349e-04 - val_loss: 4.4911e-05\n",
      "Epoch 242/250\n",
      "265/265 [==============================] - 0s 1ms/step - loss: 1.7974e-04 - val_loss: 4.5434e-05\n",
      "Epoch 243/250\n",
      "265/265 [==============================] - 0s 2ms/step - loss: 1.0858e-04 - val_loss: 9.1654e-05\n",
      "Epoch 244/250\n",
      "265/265 [==============================] - 0s 2ms/step - loss: 5.2132e-04 - val_loss: 4.5154e-05\n",
      "Epoch 245/250\n",
      "265/265 [==============================] - 1s 2ms/step - loss: 2.7422e-04 - val_loss: 4.4434e-05\n",
      "Epoch 246/250\n",
      "265/265 [==============================] - 0s 2ms/step - loss: 3.0557e-04 - val_loss: 4.4678e-05\n",
      "Epoch 247/250\n",
      "265/265 [==============================] - 0s 2ms/step - loss: 9.8174e-05 - val_loss: 3.0848e-04\n",
      "Epoch 248/250\n",
      "265/265 [==============================] - 0s 2ms/step - loss: 2.5497e-04 - val_loss: 4.6269e-05\n",
      "Epoch 249/250\n",
      "265/265 [==============================] - 0s 2ms/step - loss: 1.1379e-04 - val_loss: 4.6982e-05\n",
      "Epoch 250/250\n",
      "265/265 [==============================] - 0s 2ms/step - loss: 1.7289e-04 - val_loss: 4.9674e-05\n"
     ]
    },
    {
     "data": {
      "text/plain": [
       "<keras.callbacks.History at 0x20e5f3a7730>"
      ]
     },
     "execution_count": 35,
     "metadata": {},
     "output_type": "execute_result"
    }
   ],
   "source": [
    "model = Sequential()\n",
    "model.add(LSTM(4, input_shape=(Xtrain.shape[1], Xtrain.shape[2])))\n",
    "model.add(Dense(1))\n",
    "model.compile(loss=\"mean_squared_error\", optimizer=\"adam\")\n",
    "model.fit(\n",
    "    Xtrain, ytrain, epochs=250, validation_data=(Xtest, ytest), batch_size=16, verbose=1\n",
    ")"
   ]
  },
  {
   "cell_type": "code",
   "execution_count": 36,
   "metadata": {},
   "outputs": [
    {
     "name": "stdout",
     "output_type": "stream",
     "text": [
      "Model: \"sequential\"\n",
      "_________________________________________________________________\n",
      "Layer (type)                 Output Shape              Param #   \n",
      "=================================================================\n",
      "lstm (LSTM)                  (None, 4)                 112       \n",
      "_________________________________________________________________\n",
      "dense (Dense)                (None, 1)                 5         \n",
      "=================================================================\n",
      "Total params: 117\n",
      "Trainable params: 117\n",
      "Non-trainable params: 0\n",
      "_________________________________________________________________\n"
     ]
    }
   ],
   "source": [
    "model.summary()"
   ]
  },
  {
   "cell_type": "code",
   "execution_count": 37,
   "metadata": {},
   "outputs": [],
   "source": [
    "trainPredict = model.predict(Xtrain)\n",
    "testPredict = model.predict(Xtest)\n",
    "\n"
   ]
  },
  {
   "cell_type": "code",
   "execution_count": 38,
   "metadata": {},
   "outputs": [],
   "source": [
    "trainPredict = np.c_[trainPredict, np.zeros(trainPredict.shape)]\n",
    "testPredict = np.c_[testPredict, np.zeros(testPredict.shape)]"
   ]
  },
  {
   "cell_type": "code",
   "execution_count": 39,
   "metadata": {},
   "outputs": [],
   "source": [
    "trainPredict = scaler.inverse_transform(trainPredict)\n",
    "trainPredict = [x[0] for x in trainPredict]\n",
    "\n",
    "testPredict = scaler.inverse_transform(testPredict)\n",
    "testPredict = [x[0] for x in testPredict]\n"
   ]
  },
  {
   "cell_type": "code",
   "execution_count": 40,
   "metadata": {},
   "outputs": [
    {
     "name": "stdout",
     "output_type": "stream",
     "text": [
      "[458.93052068948737, 456.6099720716476, 450.81441546678536, 457.1444694042205, 458.4899868190288]\n",
      "[676.8263918757438, 706.6777875900267, 705.4703675389288, 715.3376344084738, 726.435700368881]\n"
     ]
    }
   ],
   "source": [
    "print(trainPredict[len(trainPredict)-5:])\n",
    "print(testPredict[len(testPredict)-5:])"
   ]
  },
  {
   "cell_type": "code",
   "execution_count": 41,
   "metadata": {},
   "outputs": [],
   "source": [
    "from sklearn.metrics import mean_squared_error"
   ]
  },
  {
   "cell_type": "code",
   "execution_count": 42,
   "metadata": {},
   "outputs": [
    {
     "name": "stdout",
     "output_type": "stream",
     "text": [
      "Train Score: 762.89 RMSE\n",
      "Test Score: 604.99 RMSE\n"
     ]
    }
   ],
   "source": [
    "trainScore = mean_squared_error([x[0][0] for x in Xtrain], trainPredict, squared=False)\n",
    "print(\"Train Score: %.2f RMSE\" % (trainScore))\n",
    "\n",
    "testScore = mean_squared_error([x[0][0] for x in Xtest], testPredict, squared=False)\n",
    "print(\"Test Score: %.2f RMSE\" % (testScore))"
   ]
  },
  {
   "cell_type": "markdown",
   "metadata": {},
   "source": [
    "## TEST SCORE PREDICTION"
   ]
  },
  {
   "cell_type": "code",
   "execution_count": 43,
   "metadata": {},
   "outputs": [],
   "source": [
    "a=(testPredict[len(testPredict)-5:])"
   ]
  },
  {
   "cell_type": "code",
   "execution_count": 44,
   "metadata": {},
   "outputs": [
    {
     "name": "stdout",
     "output_type": "stream",
     "text": [
      "676.8263918757438\n",
      "706.6777875900267\n",
      "705.4703675389288\n",
      "715.3376344084738\n",
      "726.435700368881\n"
     ]
    }
   ],
   "source": [
    "for i in a:\n",
    "       print(i)"
   ]
  }
 ],
 "metadata": {
  "kernelspec": {
   "display_name": "Python 3",
   "language": "python",
   "name": "python3"
  },
  "language_info": {
   "codemirror_mode": {
    "name": "ipython",
    "version": 3
   },
   "file_extension": ".py",
   "mimetype": "text/x-python",
   "name": "python",
   "nbconvert_exporter": "python",
   "pygments_lexer": "ipython3",
   "version": "3.8.8"
  }
 },
 "nbformat": 4,
 "nbformat_minor": 4
}
